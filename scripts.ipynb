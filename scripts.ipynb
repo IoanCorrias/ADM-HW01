{
 "cells": [
  {
   "cell_type": "markdown",
   "id": "e040b246",
   "metadata": {
    "pycharm": {
     "name": "#%% md\n"
    }
   },
   "source": [
    "#### Say \"Hello, World!\" With Python"
   ]
  },
  {
   "cell_type": "code",
   "execution_count": null,
   "id": "c98ddb82",
   "metadata": {
    "pycharm": {
     "name": "#%%\n"
    }
   },
   "outputs": [],
   "source": [
    "print(\"Hello, World!\")"
   ]
  },
  {
   "cell_type": "markdown",
   "id": "214dc372",
   "metadata": {
    "pycharm": {
     "name": "#%% md\n"
    }
   },
   "source": [
    "#### Arithmetic Operators"
   ]
  },
  {
   "cell_type": "code",
   "execution_count": null,
   "id": "ae824b07",
   "metadata": {
    "pycharm": {
     "name": "#%%\n"
    }
   },
   "outputs": [],
   "source": [
    "if __name__ == '__main__':\n",
    "    a = int(input())\n",
    "    b = int(input())\n",
    "    \n",
    "    print(a+b)\n",
    "    print(a-b)\n",
    "    print(a*b)"
   ]
  },
  {
   "cell_type": "markdown",
   "id": "38ad7793",
   "metadata": {
    "pycharm": {
     "name": "#%% md\n"
    }
   },
   "source": [
    "#### Python: Division"
   ]
  },
  {
   "cell_type": "code",
   "execution_count": null,
   "id": "598fde37",
   "metadata": {
    "pycharm": {
     "name": "#%%\n"
    }
   },
   "outputs": [],
   "source": [
    "if __name__ == '__main__':\n",
    "    a = int(input())\n",
    "    b = int(input())\n",
    "    \n",
    "    print(int(a/b))\n",
    "    print(a/b)"
   ]
  },
  {
   "cell_type": "markdown",
   "id": "e3f7642e",
   "metadata": {
    "pycharm": {
     "name": "#%% md\n"
    }
   },
   "source": [
    "#### Loops"
   ]
  },
  {
   "cell_type": "code",
   "execution_count": null,
   "id": "d9fd98d7",
   "metadata": {
    "pycharm": {
     "name": "#%%\n"
    }
   },
   "outputs": [],
   "source": [
    "if __name__ == '__main__':\n",
    "    n = int(input())\n",
    "    \n",
    "    for i in range(n):\n",
    "       print(i*i)"
   ]
  },
  {
   "cell_type": "markdown",
   "id": "7e3c8907",
   "metadata": {
    "pycharm": {
     "name": "#%% md\n"
    }
   },
   "source": [
    "#### Write a function"
   ]
  },
  {
   "cell_type": "code",
   "execution_count": null,
   "id": "6f3d7905",
   "metadata": {
    "pycharm": {
     "name": "#%%\n"
    }
   },
   "outputs": [],
   "source": [
    "def is_leap(year):\n",
    "    leap = False\n",
    "    \n",
    "    if year % 4 == 0:\n",
    "        if year % 100 == 0:\n",
    "            if year % 400 == 0:\n",
    "                leap = True\n",
    "        else:\n",
    "            leap = True\n",
    "    return leap"
   ]
  },
  {
   "cell_type": "markdown",
   "id": "be8b93a0",
   "metadata": {
    "pycharm": {
     "name": "#%% md\n"
    }
   },
   "source": [
    "#### Print Function"
   ]
  },
  {
   "cell_type": "code",
   "execution_count": null,
   "id": "f61c2943",
   "metadata": {
    "pycharm": {
     "name": "#%%\n"
    }
   },
   "outputs": [],
   "source": [
    "if __name__ == '__main__':\n",
    "    n = int(input())\n",
    "    \n",
    "    my_list = [i for i in range(1, n+1)]\n",
    "    my_string = ''\n",
    "    \n",
    "    for i in my_list:\n",
    "        my_string = my_string + str(i)\n",
    "        \n",
    "    print(my_string)"
   ]
  },
  {
   "cell_type": "markdown",
   "id": "6d1bc14d",
   "metadata": {
    "pycharm": {
     "name": "#%% md\n"
    }
   },
   "source": [
    "#### Nested Lists"
   ]
  },
  {
   "cell_type": "code",
   "execution_count": null,
   "id": "245e6163",
   "metadata": {
    "pycharm": {
     "name": "#%%\n"
    }
   },
   "outputs": [],
   "source": [
    "def pop_lowest(stud_dict):\n",
    "    lowest = {}\n",
    "    \n",
    "    min_grade = min([grade for grade in stud_dict.values()])\n",
    "        \n",
    "    for stud, grade in stud_dict.items():\n",
    "        if grade == min_grade:\n",
    "            lowest[stud] = grade\n",
    "            \n",
    "    return lowest\n",
    "\n",
    "if __name__ == '__main__':\n",
    "    \n",
    "    students = {}\n",
    "    \n",
    "    for _ in range(int(input())):\n",
    "        name = input()\n",
    "        score = float(input())\n",
    "        \n",
    "        students[name] = score\n",
    "    \n",
    "    lowest_score = pop_lowest(students)\n",
    "    \n",
    "    for key in lowest_score:\n",
    "        del students[key]\n",
    "    \n",
    "    \n",
    "    lowest_score = pop_lowest(students)\n",
    "    names = [name for name in lowest_score]\n",
    "    \n",
    "    for name in sorted(names):\n",
    "        print(name)"
   ]
  },
  {
   "cell_type": "markdown",
   "id": "cece2ca0",
   "metadata": {
    "pycharm": {
     "name": "#%% md\n"
    }
   },
   "source": [
    "#### Finding the percentage"
   ]
  },
  {
   "cell_type": "code",
   "execution_count": null,
   "id": "7e1b3be3",
   "metadata": {
    "pycharm": {
     "name": "#%%\n"
    }
   },
   "outputs": [],
   "source": [
    "if __name__ == '__main__':\n",
    "    n = int(input())\n",
    "    student_marks = {}\n",
    "    for _ in range(n):\n",
    "        name, *line = input().split()\n",
    "        scores = list(map(float, line))\n",
    "        student_marks[name] = scores\n",
    "    query_name = input()\n",
    "    \n",
    "    query_grades = student_marks[query_name]\n",
    "    \n",
    "    print(format(sum(query_grades)/len(query_grades), '.2f'))"
   ]
  },
  {
   "cell_type": "markdown",
   "id": "40b3efed",
   "metadata": {
    "pycharm": {
     "name": "#%% md\n"
    }
   },
   "source": [
    "#### Lists"
   ]
  },
  {
   "cell_type": "code",
   "execution_count": null,
   "id": "4854df22",
   "metadata": {
    "pycharm": {
     "name": "#%%\n"
    }
   },
   "outputs": [],
   "source": [
    "if __name__ == '__main__':\n",
    "    N = int(input())\n",
    "    \n",
    "    my_list = []\n",
    "    \n",
    "    for i in range(N):\n",
    "        user_input = input().split(' ')\n",
    "        command = user_input[0]\n",
    "        \n",
    "        if command == 'insert':\n",
    "            position = user_input[1]\n",
    "            value = user_input[2]\n",
    "            my_list.insert(int(position), int(value))\n",
    "            \n",
    "        if command == 'print':\n",
    "            print(my_list)\n",
    "            \n",
    "        if command == 'remove':\n",
    "            value = user_input[1]\n",
    "            my_list.remove(int(value))\n",
    "            \n",
    "        if command == 'append':\n",
    "            value = user_input[1]\n",
    "            my_list.append(int(value))\n",
    "            \n",
    "        if command == 'sort':\n",
    "            my_list = sorted(my_list)\n",
    "            \n",
    "        if command == 'pop':\n",
    "            my_list.pop()\n",
    "            \n",
    "        if command == 'reverse':\n",
    "            my_list = list(reversed(my_list))"
   ]
  },
  {
   "cell_type": "markdown",
   "id": "50ee16d2",
   "metadata": {
    "pycharm": {
     "name": "#%% md\n"
    }
   },
   "source": [
    "#### Tuples "
   ]
  },
  {
   "cell_type": "code",
   "execution_count": null,
   "id": "71731b5a",
   "metadata": {
    "pycharm": {
     "name": "#%%\n"
    }
   },
   "outputs": [],
   "source": [
    "if __name__ == '__main__':\n",
    "    n = int(input())\n",
    "\n",
    "    integer_list = map(int, input().split())\n",
    "\n",
    "    print(hash(tuple(integer_list)))"
   ]
  },
  {
   "cell_type": "markdown",
   "id": "c860545b",
   "metadata": {
    "pycharm": {
     "name": "#%% md\n"
    }
   },
   "source": [
    "#### Find the Runner-Up Score!  "
   ]
  },
  {
   "cell_type": "code",
   "execution_count": null,
   "id": "c1270ace",
   "metadata": {
    "pycharm": {
     "name": "#%%\n"
    }
   },
   "outputs": [],
   "source": [
    "if __name__ == '__main__':\n",
    "    n = int(input())\n",
    "    arr = map(int, input().split())\n",
    "    \n",
    "    my_list = list(arr)\n",
    "    \n",
    "    first = max(my_list)\n",
    "\n",
    "    # Remove all occurrences of the max value\n",
    "    my_list = [i for i in my_list if i != first]\n",
    "\n",
    "    # Print runner up\n",
    "    print(max(my_list))"
   ]
  },
  {
   "cell_type": "markdown",
   "id": "40efbab6",
   "metadata": {
    "pycharm": {
     "name": "#%% md\n"
    }
   },
   "source": [
    "#### String Split and Join"
   ]
  },
  {
   "cell_type": "code",
   "execution_count": null,
   "id": "217ba5f6",
   "metadata": {
    "pycharm": {
     "name": "#%%\n"
    }
   },
   "outputs": [],
   "source": [
    "def split_and_join(line):\n",
    "    splitted_line = line.split(\" \")\n",
    "    return \"-\".join(splitted_line)\n",
    "\n",
    "if __name__ == '__main__':\n",
    "    line = input()\n",
    "    result = split_and_join(line)\n",
    "    print(result)"
   ]
  },
  {
   "cell_type": "markdown",
   "id": "3a8545a8",
   "metadata": {
    "pycharm": {
     "name": "#%% md\n"
    }
   },
   "source": [
    "#### What's Your Name?"
   ]
  },
  {
   "cell_type": "code",
   "execution_count": null,
   "id": "d0d0c640",
   "metadata": {
    "pycharm": {
     "name": "#%%\n"
    }
   },
   "outputs": [],
   "source": [
    "#\n",
    "# Complete the 'print_full_name' function below.\n",
    "#\n",
    "# The function is expected to return a STRING.\n",
    "# The function accepts following parameters:\n",
    "#  1. STRING first\n",
    "#  2. STRING last\n",
    "#\n",
    "\n",
    "def print_full_name(first, last):\n",
    "    print(f\"Hello {first} {last}! You just delved into python.\")"
   ]
  },
  {
   "cell_type": "markdown",
   "id": "edcec3bf",
   "metadata": {
    "pycharm": {
     "name": "#%% md\n"
    }
   },
   "source": [
    "#### Mutations"
   ]
  },
  {
   "cell_type": "code",
   "execution_count": null,
   "id": "c8e74bb1",
   "metadata": {
    "pycharm": {
     "name": "#%%\n"
    }
   },
   "outputs": [],
   "source": [
    "def mutate_string(string, position, character):\n",
    "    return string[:position] + character + string[position+1:]"
   ]
  },
  {
   "cell_type": "markdown",
   "id": "ab6ecb5f",
   "metadata": {
    "pycharm": {
     "name": "#%% md\n"
    }
   },
   "source": [
    "#### Find a string"
   ]
  },
  {
   "cell_type": "code",
   "execution_count": null,
   "id": "220ca8dc",
   "metadata": {
    "pycharm": {
     "name": "#%%\n"
    }
   },
   "outputs": [],
   "source": [
    "def count_substring(string, sub_string):\n",
    "    counter = 0\n",
    "    \n",
    "    for i, char in enumerate(string):\n",
    "        if string[i:i+len(sub_string)] == sub_string:\n",
    "            counter += 1\n",
    "    \n",
    "    return counter"
   ]
  },
  {
   "cell_type": "markdown",
   "id": "4a6f2d7b",
   "metadata": {
    "pycharm": {
     "name": "#%% md\n"
    }
   },
   "source": [
    "#### String Validators"
   ]
  },
  {
   "cell_type": "code",
   "execution_count": null,
   "id": "8be512ea",
   "metadata": {
    "pycharm": {
     "name": "#%%\n"
    }
   },
   "outputs": [],
   "source": [
    "if __name__ == '__main__':\n",
    "    s = input()\n",
    "    \n",
    "    flag = False\n",
    "    for c in s:\n",
    "        if c.isalnum():\n",
    "            flag = True\n",
    "            break\n",
    "    print(flag)\n",
    "        \n",
    "    flag = False\n",
    "    for c in s:\n",
    "        if c.isalpha():\n",
    "            flag = True\n",
    "            break\n",
    "    print(flag)\n",
    "    \n",
    "    flag = False\n",
    "    for c in s:\n",
    "        if c.isdigit():\n",
    "            flag = True\n",
    "            break\n",
    "    print(flag)\n",
    "    \n",
    "    flag = False\n",
    "    for c in s:\n",
    "        if c.islower():\n",
    "            flag = True\n",
    "            break\n",
    "    print(flag)\n",
    "    \n",
    "    flag = False\n",
    "    for c in s:\n",
    "        if c.isupper():\n",
    "            flag = True\n",
    "            break\n",
    "    print(flag)"
   ]
  },
  {
   "cell_type": "markdown",
   "id": "f95005dd",
   "metadata": {
    "pycharm": {
     "name": "#%% md\n"
    }
   },
   "source": [
    "#### Text Alignment"
   ]
  },
  {
   "cell_type": "code",
   "execution_count": null,
   "id": "f3e2ff97",
   "metadata": {
    "pycharm": {
     "name": "#%%\n"
    }
   },
   "outputs": [],
   "source": [
    "#Replace all ______ with rjust, ljust or center. \n",
    "\n",
    "thickness = int(input()) #This must be an odd number\n",
    "c = 'H'\n",
    "\n",
    "#Top Cone\n",
    "for i in range(thickness):\n",
    "    print((c*i).rjust(thickness-1)+c+(c*i).ljust(thickness-1))\n",
    "\n",
    "#Top Pillars\n",
    "for i in range(thickness+1):\n",
    "    print((c*thickness).center(thickness*2)+(c*thickness).center(thickness*6))\n",
    "\n",
    "#Middle Belt\n",
    "for i in range((thickness+1)//2):\n",
    "    print((c*thickness*5).center(thickness*6))    \n",
    "\n",
    "#Bottom Pillars\n",
    "for i in range(thickness+1):\n",
    "    print((c*thickness).center(thickness*2)+(c*thickness).center(thickness*6))    \n",
    "\n",
    "#Bottom Cone\n",
    "for i in range(thickness):\n",
    "    print(((c*(thickness-i-1)).rjust(thickness)+c+(c*(thickness-i-1)).ljust(thickness)).rjust(thickness*6))"
   ]
  },
  {
   "cell_type": "markdown",
   "id": "b04ebc61",
   "metadata": {
    "pycharm": {
     "name": "#%% md\n"
    }
   },
   "source": [
    "#### Text Wrap"
   ]
  },
  {
   "cell_type": "code",
   "execution_count": null,
   "id": "d8de837e",
   "metadata": {
    "pycharm": {
     "name": "#%%\n"
    }
   },
   "outputs": [],
   "source": [
    "def wrap(string, max_width):\n",
    "    wrapped_string = ''\n",
    "    \n",
    "    for i, c in enumerate(string):\n",
    "        if i != 0 and i % max_width == 0:\n",
    "            wrapped_string += '\\n'\n",
    "        wrapped_string += c\n",
    "    \n",
    "    return wrapped_string"
   ]
  },
  {
   "cell_type": "markdown",
   "id": "dffc7c7a",
   "metadata": {
    "pycharm": {
     "name": "#%% md\n"
    }
   },
   "source": [
    "#### Designer Door Mat"
   ]
  },
  {
   "cell_type": "code",
   "execution_count": null,
   "id": "f0d1e50c",
   "metadata": {
    "pycharm": {
     "name": "#%%\n"
    }
   },
   "outputs": [],
   "source": [
    "# Enter your code here. Read input from STDIN. Print output to STDOUT\n",
    "\n",
    "def print_head(n, m):\n",
    "    n_spikes = int((m - 6) / 3)\n",
    "\n",
    "    for i in reversed(range(int(n/2))):\n",
    "        print('-'*(3*(i+1)) + '.|.'*(n_spikes-(i*2)) + '-'*(3*(i+1)))\n",
    "    \n",
    "def print_message(n, m, message='WELCOME'):\n",
    "    n_dashes = int((m - len(message)) / 2)\n",
    "    print('-'*n_dashes + message + '-'*n_dashes)\n",
    "    \n",
    "def print_tail(n, m):\n",
    "    n_spikes = int((m - 6) / 3)\n",
    "\n",
    "    for i in range(int(n/2)):\n",
    "        print('-'*(3*(i+1)) + '.|.'*(n_spikes-(i*2)) + '-'*(3*(i+1)))\n",
    "    \n",
    "\n",
    "\n",
    "N, M = input().split(\" \")\n",
    "N = int(N)\n",
    "M = int(M)\n",
    "\n",
    "print_head(N, M)\n",
    "print_message(N, M)\n",
    "print_tail(N, M)"
   ]
  },
  {
   "cell_type": "markdown",
   "id": "41f2ff29",
   "metadata": {
    "pycharm": {
     "name": "#%% md\n"
    }
   },
   "source": [
    "#### String Formatting"
   ]
  },
  {
   "cell_type": "code",
   "execution_count": null,
   "id": "bd9e893a",
   "metadata": {
    "pycharm": {
     "name": "#%%\n"
    }
   },
   "outputs": [],
   "source": [
    "def print_formatted(number):\n",
    "    max_bin_width = len(bin(number)) - 1\n",
    "\n",
    "    for i in range(1, number + 1):\n",
    "        print(f'{i}'.rjust(max_bin_width - 1, ' ') +\n",
    "        f'{oct(i)[2:]}'.rjust(max_bin_width, ' ') + \n",
    "        f'{hex(i)[2:].upper()}'.rjust(max_bin_width, ' ') + \n",
    "        f'{bin(i)[2:]}'.rjust(max_bin_width, ' '))"
   ]
  },
  {
   "cell_type": "markdown",
   "id": "8528d546",
   "metadata": {
    "pycharm": {
     "name": "#%% md\n"
    }
   },
   "source": [
    "#### Capitalize!"
   ]
  },
  {
   "cell_type": "code",
   "execution_count": null,
   "id": "e2fd4ff0",
   "metadata": {
    "pycharm": {
     "name": "#%%\n"
    }
   },
   "outputs": [],
   "source": [
    "# Complete the solve function below.\n",
    "def solve(s):\n",
    "    names = s.split(\" \")\n",
    "    names = [name.lower().capitalize() for name in names]\n",
    "    return ' '.join(names)"
   ]
  },
  {
   "cell_type": "markdown",
   "id": "f101db33",
   "metadata": {
    "pycharm": {
     "name": "#%% md\n"
    }
   },
   "source": [
    "#### Merge the Tools!"
   ]
  },
  {
   "cell_type": "code",
   "execution_count": null,
   "id": "6b3d0a3a",
   "metadata": {
    "pycharm": {
     "name": "#%%\n"
    }
   },
   "outputs": [],
   "source": [
    "def remove_duplicates(string):\n",
    "    l = list(string)\n",
    "    d = {}\n",
    "    for item in l:\n",
    "        d[item] = 0\n",
    "    return list(d.keys())\n",
    "\n",
    "def merge_the_tools(string, k):\n",
    "    substrings = []\n",
    "    for i, char in enumerate(string):\n",
    "        if i % k == 0:\n",
    "            substrings.append(string[i:i+k])\n",
    "            \n",
    "    substrings = [remove_duplicates(s) for s in substrings]\n",
    "    \n",
    "    for s in substrings:\n",
    "        print(''.join(s))"
   ]
  },
  {
   "cell_type": "markdown",
   "id": "28b6483b",
   "metadata": {
    "pycharm": {
     "name": "#%% md\n"
    }
   },
   "source": [
    "#### Alphabet Rangoli"
   ]
  },
  {
   "cell_type": "code",
   "execution_count": null,
   "id": "d356746e",
   "metadata": {
    "pycharm": {
     "name": "#%%\n"
    }
   },
   "outputs": [],
   "source": [
    "letters = ['a', 'b', 'c', 'd', 'e', 'f', 'g', 'h', 'i', 'j', 'k', 'l', 'm', 'n', 'o', 'p', 'q', 'r', 's', 't', 'u', 'v', 'w', 'x', 'y', 'z']\n",
    "\n",
    "def get_letters(size, offset=0):\n",
    "    center_letters = [letters[offset+i] for i in reversed(range(1, size))]\n",
    "    center_letters.append(letters[offset])\n",
    "    center_letters = center_letters + [letters[offset+i] for i in range(1, size)]\n",
    "    return '-'.join(center_letters)\n",
    "    \n",
    "    \n",
    "def print_rangoli(size):\n",
    "    center_letters = get_letters(size)\n",
    "    \n",
    "    # Top\n",
    "    max_dash_size = len(center_letters) - 1\n",
    "    for i in reversed(range(1, size)):\n",
    "        print('-'*i*2 + get_letters(size-i, i) + '-'*i*2)\n",
    "        \n",
    "    # Center   \n",
    "    print(center_letters)\n",
    "    \n",
    "    # Bottom \n",
    "    max_dash_size = len(center_letters) - 1\n",
    "    for i in range(1, size):\n",
    "        print('-'*i*2 + get_letters(size-i, i) + '-'*i*2)"
   ]
  },
  {
   "cell_type": "markdown",
   "id": "9845c4bf",
   "metadata": {
    "pycharm": {
     "name": "#%% md\n"
    }
   },
   "source": [
    "#### Symmetric Difference"
   ]
  },
  {
   "cell_type": "code",
   "execution_count": null,
   "id": "8ba1fbff",
   "metadata": {
    "pycharm": {
     "name": "#%%\n"
    }
   },
   "outputs": [],
   "source": [
    "# Enter your code here. Read input from STDIN. Print output to STDOUT\n",
    "\n",
    "M = int(input())\n",
    "\n",
    "a = set(map(int, input().split()))\n",
    "\n",
    "N = int(input())\n",
    "\n",
    "b = set(map(int, input().split()))\n",
    "\n",
    "a_b = a.difference(b)\n",
    "\n",
    "b_a = b.difference(a)\n",
    "\n",
    "for i in sorted(a_b.union(b_a)):\n",
    "    print(i)"
   ]
  },
  {
   "cell_type": "markdown",
   "id": "e23d4d65",
   "metadata": {
    "pycharm": {
     "name": "#%% md\n"
    }
   },
   "source": [
    "#### Set .add() "
   ]
  },
  {
   "cell_type": "code",
   "execution_count": null,
   "id": "57fe412c",
   "metadata": {
    "pycharm": {
     "name": "#%%\n"
    }
   },
   "outputs": [],
   "source": [
    "# Enter your code here. Read input from STDIN. Print output to STDOUT\n",
    "N = int(input())\n",
    "\n",
    "stamps = set()\n",
    "\n",
    "for i in range(N):\n",
    "    stamps.add(input())\n",
    "    \n",
    "print(len(stamps))"
   ]
  },
  {
   "cell_type": "markdown",
   "id": "32d93169",
   "metadata": {
    "pycharm": {
     "name": "#%% md\n"
    }
   },
   "source": [
    "#### Set .discard(), .remove() & .pop()"
   ]
  },
  {
   "cell_type": "code",
   "execution_count": null,
   "id": "e39c4be5",
   "metadata": {
    "pycharm": {
     "name": "#%%\n"
    }
   },
   "outputs": [],
   "source": [
    "n = int(input())\n",
    "s = set(map(int, input().split()))\n",
    "\n",
    "N = int(input())\n",
    "\n",
    "for i in range(N):\n",
    "    command = list(input().split())\n",
    "    \n",
    "    if command[0] == 'pop':\n",
    "        s.pop()\n",
    "    if command[0] == 'remove':\n",
    "        try:\n",
    "            s.remove(int(command[1]))\n",
    "        except KeyError:\n",
    "            pass\n",
    "    if command[0] == 'discard':\n",
    "        s.discard(int(command[1]))\n",
    "\n",
    "print(sum(s))"
   ]
  },
  {
   "cell_type": "markdown",
   "id": "8a1c2375",
   "metadata": {
    "pycharm": {
     "name": "#%% md\n"
    }
   },
   "source": [
    "#### Re.split()"
   ]
  },
  {
   "cell_type": "code",
   "execution_count": null,
   "id": "25feadb2",
   "metadata": {
    "pycharm": {
     "name": "#%%\n"
    }
   },
   "outputs": [],
   "source": [
    "regex_pattern = r\"\\.|\\,\"\t# Do not delete 'r'."
   ]
  },
  {
   "cell_type": "markdown",
   "id": "2462eca8",
   "metadata": {
    "pycharm": {
     "name": "#%% md\n"
    }
   },
   "source": [
    "#### Regex Substitution"
   ]
  },
  {
   "cell_type": "code",
   "execution_count": null,
   "id": "18ab4724",
   "metadata": {
    "pycharm": {
     "name": "#%%\n"
    }
   },
   "outputs": [],
   "source": [
    "# Enter your code here. Read input from STDIN. Print output to STDOUT\n",
    "import re\n",
    "\n",
    "def sub_operators(match):\n",
    "    operator = match.group(1)\n",
    "    if operator == \"&&\":\n",
    "        return \"and\"\n",
    "    if operator == \"||\":\n",
    "        return \"or\"\n",
    "\n",
    "n = int(input())\n",
    "\n",
    "for i in range(n):\n",
    "    print(re.sub(r\"(?<= )(\\|{2}|&{2})(?= )\", sub_operators, input()))"
   ]
  },
  {
   "cell_type": "markdown",
   "id": "efb119e2",
   "metadata": {
    "pycharm": {
     "name": "#%% md\n"
    }
   },
   "source": [
    "#### Set .union() Operation"
   ]
  },
  {
   "cell_type": "code",
   "execution_count": null,
   "id": "3e846346",
   "metadata": {
    "pycharm": {
     "name": "#%%\n"
    }
   },
   "outputs": [],
   "source": [
    "# Enter your code here. Read input from STDIN. Print output to STDOUT\n",
    "\n",
    "n = int(input())\n",
    "\n",
    "english_subs = set([sub for sub in input().split()])\n",
    "\n",
    "m = int(input())\n",
    "\n",
    "french_subs = set([sub for sub in input().split()])\n",
    "\n",
    "print(len(english_subs.union(french_subs)))"
   ]
  },
  {
   "cell_type": "markdown",
   "id": "c88687bd",
   "metadata": {
    "pycharm": {
     "name": "#%% md\n"
    }
   },
   "source": [
    "#### Set .intersection() Operation"
   ]
  },
  {
   "cell_type": "code",
   "execution_count": null,
   "id": "1b487c18",
   "metadata": {
    "pycharm": {
     "name": "#%%\n"
    }
   },
   "outputs": [],
   "source": [
    "# Enter your code here. Read input from STDIN. Print output to STDOUT\n",
    "\n",
    "n = int(input())\n",
    "\n",
    "english_subs = set([sub for sub in input().split()])\n",
    "\n",
    "m = int(input())\n",
    "\n",
    "french_subs = set([sub for sub in input().split()])\n",
    "\n",
    "print(len(english_subs.intersection(french_subs)))"
   ]
  },
  {
   "cell_type": "markdown",
   "id": "1d824afa",
   "metadata": {
    "pycharm": {
     "name": "#%% md\n"
    }
   },
   "source": [
    "#### Set .difference() Operation"
   ]
  },
  {
   "cell_type": "code",
   "execution_count": null,
   "id": "714086d8",
   "metadata": {
    "pycharm": {
     "name": "#%%\n"
    }
   },
   "outputs": [],
   "source": [
    "# Enter your code here. Read input from STDIN. Print output to STDOUT\n",
    "\n",
    "n = int(input())\n",
    "\n",
    "english_subs = set([sub for sub in input().split()])\n",
    "\n",
    "m = int(input())\n",
    "\n",
    "french_subs = set([sub for sub in input().split()])\n",
    "\n",
    "print(len(english_subs.difference(french_subs)))"
   ]
  },
  {
   "cell_type": "markdown",
   "id": "4b0906a0",
   "metadata": {
    "pycharm": {
     "name": "#%% md\n"
    }
   },
   "source": [
    "#### Set .symmetric_difference() Operation"
   ]
  },
  {
   "cell_type": "code",
   "execution_count": null,
   "id": "21b998a9",
   "metadata": {
    "pycharm": {
     "name": "#%%\n"
    }
   },
   "outputs": [],
   "source": [
    "# Enter your code here. Read input from STDIN. Print output to STDOUT\n",
    "\n",
    "n = int(input())\n",
    "\n",
    "english_subs = set([sub for sub in input().split()])\n",
    "\n",
    "m = int(input())\n",
    "\n",
    "french_subs = set([sub for sub in input().split()])\n",
    "\n",
    "print(len(english_subs.symmetric_difference(french_subs)))"
   ]
  },
  {
   "cell_type": "markdown",
   "id": "261e5b69",
   "metadata": {
    "pycharm": {
     "name": "#%% md\n"
    }
   },
   "source": [
    "#### Set Mutations"
   ]
  },
  {
   "cell_type": "code",
   "execution_count": null,
   "id": "4f580db6",
   "metadata": {
    "pycharm": {
     "name": "#%%\n"
    }
   },
   "outputs": [],
   "source": [
    "# Enter your code here. Read input from STDIN. Print output to STDOUT\n",
    "\n",
    "n = int(input())\n",
    "\n",
    "A = set([int(i) for i in input().split(\" \")])\n",
    "\n",
    "n_commands = int(input())\n",
    "\n",
    "for i in range(n_commands):\n",
    "    command, set_dim = input().split(\" \")\n",
    "    B = set([int(i) for i in input().split(\" \")])\n",
    "    \n",
    "    if command == \"update\":\n",
    "        A.update(B)\n",
    "    if command == \"intersection_update\":\n",
    "        A.intersection_update(B)\n",
    "    if command == \"difference_update\":\n",
    "        A.difference_update(B)\n",
    "    if command == \"symmetric_difference_update\":\n",
    "        A.symmetric_difference_update(B)\n",
    "        \n",
    "print(sum(A))"
   ]
  },
  {
   "cell_type": "markdown",
   "id": "254fc3eb",
   "metadata": {
    "pycharm": {
     "name": "#%% md\n"
    }
   },
   "source": [
    "#### The Captain's Room "
   ]
  },
  {
   "cell_type": "code",
   "execution_count": null,
   "id": "e4c05098",
   "metadata": {
    "pycharm": {
     "name": "#%%\n"
    }
   },
   "outputs": [],
   "source": [
    "# Enter your code here. Read input from STDIN. Print output to STDOUT\n",
    "from collections import Counter\n",
    "\n",
    "K = int(input())\n",
    "\n",
    "rooms_list = [int(i) for i in input().split(\" \")]\n",
    "\n",
    "room_numbers = set(rooms_list)\n",
    "\n",
    "n_groups = int((len(rooms_list) - 1) / K)\n",
    "\n",
    "# Using the counter class we can identify which room number appears only one time\n",
    "c = Counter(rooms_list)\n",
    "print(c.most_common()[-1][0])"
   ]
  },
  {
   "cell_type": "markdown",
   "id": "0598a129",
   "metadata": {
    "pycharm": {
     "name": "#%% md\n"
    }
   },
   "source": [
    "#### Check Subset"
   ]
  },
  {
   "cell_type": "code",
   "execution_count": null,
   "id": "d0818123",
   "metadata": {
    "pycharm": {
     "name": "#%%\n"
    }
   },
   "outputs": [],
   "source": [
    "# Enter your code here. Read input from STDIN. Print output to STDOUT\n",
    "\n",
    "n_test = int(input())\n",
    "\n",
    "for i in range(n_test):\n",
    "    n_A = int(input())\n",
    "    A = set([int(i) for i in input().split()])\n",
    "    n_B = int(input())\n",
    "    B = set([int(i) for i in input().split()])\n",
    "    \n",
    "    if A.intersection(B) == A:\n",
    "        print(\"True\")\n",
    "    else:\n",
    "        print(\"False\")"
   ]
  },
  {
   "cell_type": "markdown",
   "id": "bc98429a",
   "metadata": {
    "pycharm": {
     "name": "#%% md\n"
    }
   },
   "source": [
    "#### Introduction to Sets"
   ]
  },
  {
   "cell_type": "code",
   "execution_count": null,
   "id": "60d4e90c",
   "metadata": {
    "pycharm": {
     "name": "#%%\n"
    }
   },
   "outputs": [],
   "source": [
    "def average(array):\n",
    "    # your code goes here\n",
    "    arr = set(array)\n",
    "    return sum(arr) / len(arr)"
   ]
  },
  {
   "cell_type": "markdown",
   "id": "2b182248",
   "metadata": {
    "pycharm": {
     "name": "#%% md\n"
    }
   },
   "source": [
    "#### Check Strict Superset"
   ]
  },
  {
   "cell_type": "code",
   "execution_count": null,
   "id": "16711768",
   "metadata": {
    "pycharm": {
     "name": "#%%\n"
    }
   },
   "outputs": [],
   "source": [
    "# Enter your code here. Read input from STDIN. Print output to STDOUT\n",
    "\n",
    "A = set([int(i) for i in input().split()])\n",
    "\n",
    "n = int(input())\n",
    "\n",
    "superset = True\n",
    "\n",
    "for i in range(n):\n",
    "    B = set([int(i) for i in input().split()])\n",
    "    \n",
    "    if A.intersection(B) != B:\n",
    "        superset = False\n",
    "    if len(A) <= len(A.intersection(B)):\n",
    "        superset = False\n",
    "\n",
    "print(superset)"
   ]
  },
  {
   "cell_type": "markdown",
   "id": "39aeb5db",
   "metadata": {
    "pycharm": {
     "name": "#%% md\n"
    }
   },
   "source": [
    "#### No Idea!"
   ]
  },
  {
   "cell_type": "code",
   "execution_count": null,
   "id": "2e3bcc0c",
   "metadata": {
    "pycharm": {
     "name": "#%%\n"
    }
   },
   "outputs": [],
   "source": [
    "# Enter your code here. Read input from STDIN. Print output to STDOUT\n",
    "\n",
    "n, m = input().split(\" \")\n",
    "\n",
    "arr = [int(i) for i in input().split()]\n",
    "\n",
    "A = set([int(i) for i in input().split()])\n",
    "\n",
    "B = set([int(i) for i in input().split()])\n",
    "\n",
    "# Sum all the occurrences of A checking if they also appear in B\n",
    "print(sum([(i in A) - (i in B) for i in arr]))"
   ]
  },
  {
   "cell_type": "markdown",
   "id": "4a1fdafc",
   "metadata": {
    "pycharm": {
     "name": "#%% md\n"
    }
   },
   "source": [
    "#### collections.Counter()"
   ]
  },
  {
   "cell_type": "code",
   "execution_count": null,
   "id": "9ea01944",
   "metadata": {
    "pycharm": {
     "name": "#%%\n"
    }
   },
   "outputs": [],
   "source": [
    "# Enter your code here. Read input from STDIN. Print output to STDOUT\n",
    "from collections import Counter\n",
    "\n",
    "n = int(input())\n",
    "\n",
    "sizes = [i for i in input().split()]\n",
    "\n",
    "customers = int(input())\n",
    "\n",
    "prices = []\n",
    "\n",
    "for i in range(customers):\n",
    "    size, price = input().split()\n",
    "    if size in sizes:\n",
    "        sizes.remove(size)\n",
    "        prices.append(int(price))\n",
    "    \n",
    "print(sum(prices))"
   ]
  },
  {
   "cell_type": "markdown",
   "id": "d74cdc07",
   "metadata": {
    "pycharm": {
     "name": "#%% md\n"
    }
   },
   "source": [
    "#### DefaultDict Tutorial"
   ]
  },
  {
   "cell_type": "code",
   "execution_count": null,
   "id": "a03b4f36",
   "metadata": {
    "pycharm": {
     "name": "#%%\n"
    }
   },
   "outputs": [],
   "source": [
    "# Enter your code here. Read input from STDIN. Print output to STDOUT\n",
    "\n",
    "n, m = map(int, input().split())\n",
    "\n",
    "A = []\n",
    "B = []\n",
    "\n",
    "for i in range(n):\n",
    "    A.append(input())\n",
    "    \n",
    "for i in range(m):\n",
    "    B.append(input())\n",
    "    \n",
    "for i, b in enumerate(B):\n",
    "    indexes = []\n",
    "    for j, a in enumerate(A):\n",
    "        if b == a:\n",
    "            indexes.append(j+1)\n",
    "    if indexes:\n",
    "        print(\" \".join([str(ind) for ind in indexes]))\n",
    "    else:\n",
    "        print(\"-1\")"
   ]
  },
  {
   "cell_type": "markdown",
   "id": "12c10aa1",
   "metadata": {
    "pycharm": {
     "name": "#%% md\n"
    }
   },
   "source": [
    "#### Collections.namedtuple()"
   ]
  },
  {
   "cell_type": "code",
   "execution_count": null,
   "id": "e896e880",
   "metadata": {
    "pycharm": {
     "name": "#%%\n"
    }
   },
   "outputs": [],
   "source": [
    "# Enter your code here. Read input from STDIN. Print output to STDOUT\n",
    "from collections import namedtuple\n",
    "\n",
    "n = int(input())\n",
    "\n",
    "properties = input().split()\n",
    "\n",
    "Student = namedtuple(\"Student\", \",\".join([str(i) for i in properties]))\n",
    "\n",
    "students = []\n",
    "\n",
    "for i in range(n):\n",
    "    stud_props = input().split()\n",
    "    s = Student(stud_props[0], stud_props[1], stud_props[2], stud_props[3]) \n",
    "    students.append(s)\n",
    "\n",
    "marks_sum = sum([int(s.MARKS) for s in students])\n",
    "\n",
    "print(marks_sum / len(students))"
   ]
  },
  {
   "cell_type": "markdown",
   "id": "4e39c3d5",
   "metadata": {
    "pycharm": {
     "name": "#%% md\n"
    }
   },
   "source": [
    "#### Collections.OrderedDict()"
   ]
  },
  {
   "cell_type": "code",
   "execution_count": null,
   "id": "af12d9ad",
   "metadata": {
    "pycharm": {
     "name": "#%%\n"
    }
   },
   "outputs": [],
   "source": [
    "# Enter your code here. Read input from STDIN. Print output to STDOUT\n",
    "from collections import OrderedDict\n",
    "import re\n",
    "\n",
    "n = int(input())\n",
    "\n",
    "market_dict = OrderedDict()\n",
    "\n",
    "for i in range(n):\n",
    "    txt = input()\n",
    "    item_name = re.findall(r'\\D+', txt)\n",
    "    net_price = re.findall(r'\\d+', txt)\n",
    "    \n",
    "    item_name = str(item_name)[2:-3]\n",
    "    net_price = int(str(net_price)[2:-2])\n",
    "    \n",
    "    if item_name in list(market_dict):\n",
    "        market_dict[item_name] += net_price\n",
    "    else:\n",
    "        market_dict[item_name] = net_price\n",
    "        \n",
    "for key in market_dict:\n",
    "    print(f\"{key} {market_dict[key]}\")"
   ]
  },
  {
   "cell_type": "markdown",
   "id": "10662ca3",
   "metadata": {
    "pycharm": {
     "name": "#%% md\n"
    }
   },
   "source": [
    "#### Collections.deque()"
   ]
  },
  {
   "cell_type": "code",
   "execution_count": null,
   "id": "57054ba4",
   "metadata": {
    "pycharm": {
     "name": "#%%\n"
    }
   },
   "outputs": [],
   "source": [
    "# Enter your code here. Read input from STDIN. Print output to STDOUT\n",
    "from collections import deque\n",
    "import re\n",
    "\n",
    "d = deque()\n",
    "\n",
    "n = int(input())\n",
    "\n",
    "for i in range(n):\n",
    "    txt = input()\n",
    "    command = str(re.findall(r'[a-z]+', txt))[2:-2]\n",
    "    num = str(re.findall(r'\\d+', txt))[2:-2]\n",
    "    \n",
    "    if command == \"append\":\n",
    "        d.append(num)\n",
    "    if command == \"appendleft\":\n",
    "        d.appendleft(num)\n",
    "    if command == \"pop\":\n",
    "        d.pop()\n",
    "    if command == \"popleft\":\n",
    "        d.popleft()\n",
    "        \n",
    "print(\" \".join(d))"
   ]
  },
  {
   "cell_type": "markdown",
   "id": "3c2e59f7",
   "metadata": {
    "pycharm": {
     "name": "#%% md\n"
    }
   },
   "source": [
    "#### Piling Up!"
   ]
  },
  {
   "cell_type": "code",
   "execution_count": null,
   "id": "a05f359e",
   "metadata": {
    "pycharm": {
     "name": "#%%\n"
    }
   },
   "outputs": [],
   "source": [
    "# Enter your code here. Read input from STDIN. Print output to STDOUT\n",
    "from collections import deque\n",
    "\n",
    "def pilling_up(blocks):\n",
    "    vertical_pile = []\n",
    "    \n",
    "    while(blocks):\n",
    "        if blocks[0] >= blocks[-1]:\n",
    "            selected_block =blocks.popleft()\n",
    "        else:\n",
    "            selected_block = blocks.pop()\n",
    "            \n",
    "        if vertical_pile:\n",
    "            if selected_block <= vertical_pile[-1]:\n",
    "                vertical_pile.append(selected_block)\n",
    "            else:\n",
    "                return \"No\"\n",
    "        else:\n",
    "            vertical_pile.append(selected_block)     \n",
    "    return \"Yes\"\n",
    "    \n",
    "\n",
    "T = int(input())\n",
    "\n",
    "for t in range(T):\n",
    "    n = int(input())\n",
    "    blocks = [int(b) for b in input().split()]\n",
    "    \n",
    "    print(pilling_up(deque(blocks)))"
   ]
  },
  {
   "cell_type": "markdown",
   "id": "336c9ef1",
   "metadata": {
    "pycharm": {
     "name": "#%% md\n"
    }
   },
   "source": [
    "#### Company Logo"
   ]
  },
  {
   "cell_type": "code",
   "execution_count": null,
   "id": "9ca0540c",
   "metadata": {
    "pycharm": {
     "name": "#%%\n"
    }
   },
   "outputs": [],
   "source": [
    "#!/bin/python3\n",
    "\n",
    "import math\n",
    "import os\n",
    "import random\n",
    "import re\n",
    "import sys\n",
    "from collections import Counter\n",
    "\n",
    "\n",
    "\n",
    "if __name__ == '__main__':\n",
    "    s = input()\n",
    "    \n",
    "    c = Counter(sorted(list(s)))\n",
    "    \n",
    "    for char, value in c.most_common(3):\n",
    "        print(f\"{char} {value}\")"
   ]
  },
  {
   "cell_type": "markdown",
   "id": "14893ec4",
   "metadata": {
    "pycharm": {
     "name": "#%% md\n"
    }
   },
   "source": [
    "#### Word Order"
   ]
  },
  {
   "cell_type": "code",
   "execution_count": null,
   "id": "686ee509",
   "metadata": {
    "pycharm": {
     "name": "#%%\n"
    }
   },
   "outputs": [],
   "source": [
    "# Enter your code here. Read input from STDIN. Print output to STDOUT\n",
    "from collections import Counter\n",
    "\n",
    "n = int(input())\n",
    "\n",
    "c = Counter([input() for i in range(n)])\n",
    "\n",
    "print(len(c))\n",
    "print(\" \".join([str(value) for value in c.values()]))"
   ]
  },
  {
   "cell_type": "markdown",
   "id": "26b50a4f",
   "metadata": {
    "pycharm": {
     "name": "#%% md\n"
    }
   },
   "source": [
    "#### The Minion Game"
   ]
  },
  {
   "cell_type": "code",
   "execution_count": null,
   "id": "2d20086b",
   "metadata": {
    "pycharm": {
     "name": "#%%\n"
    }
   },
   "outputs": [],
   "source": [
    "def minion_game(string):\n",
    "    # your code goes here\n",
    "    \n",
    "    kevin = 0;\n",
    "    stuart = 0;\n",
    "    \n",
    "    str_len = len(string)\n",
    "    \n",
    "    for i in range(str_len):\n",
    "        # If the first letter is a vowel\n",
    "        if string[i] in \"AEIOU\":\n",
    "            # Give Kevin points for all the possible words between in the range i - str_len\n",
    "            kevin += (str_len)-i\n",
    "        else:\n",
    "            stuart += (str_len)-i\n",
    "    \n",
    "    if kevin > stuart:\n",
    "        print(f\"Kevin {kevin}\")\n",
    "    elif kevin < stuart:\n",
    "        print(f\"Stuart {stuart}\")\n",
    "    else:\n",
    "        print(\"Draw\")"
   ]
  },
  {
   "cell_type": "markdown",
   "id": "7743aac0",
   "metadata": {
    "pycharm": {
     "name": "#%% md\n"
    }
   },
   "source": [
    "#### sWAP cASE"
   ]
  },
  {
   "cell_type": "code",
   "execution_count": null,
   "id": "a9d9ba5c",
   "metadata": {
    "pycharm": {
     "name": "#%%\n"
    }
   },
   "outputs": [],
   "source": [
    "def swap_case(s):    \n",
    "    return s.swapcase()"
   ]
  },
  {
   "cell_type": "markdown",
   "id": "c68ed15f",
   "metadata": {
    "pycharm": {
     "name": "#%% md\n"
    }
   },
   "source": [
    "#### Python If-Else"
   ]
  },
  {
   "cell_type": "code",
   "execution_count": null,
   "id": "cb12e1a3",
   "metadata": {
    "pycharm": {
     "name": "#%%\n"
    }
   },
   "outputs": [],
   "source": [
    "#!/bin/python3\n",
    "\n",
    "import math\n",
    "import os\n",
    "import random\n",
    "import re\n",
    "import sys\n",
    "\n",
    "\n",
    "\n",
    "if __name__ == '__main__':\n",
    "    n = int(input().strip())\n",
    "    \n",
    "    if n % 2 != 0:\n",
    "        print(\"Weird\")\n",
    "    else:\n",
    "        if 2 <= n <= 5:\n",
    "            print(\"Not Weird\")\n",
    "        elif 6 <= n <= 20:\n",
    "            print(\"Weird\")\n",
    "        elif n > 20:\n",
    "            print(\"Not Weird\")"
   ]
  },
  {
   "cell_type": "markdown",
   "id": "cafe0c1e",
   "metadata": {
    "pycharm": {
     "name": "#%% md\n"
    }
   },
   "source": [
    "#### List Comprehensions"
   ]
  },
  {
   "cell_type": "code",
   "execution_count": null,
   "id": "43c70c76",
   "metadata": {
    "pycharm": {
     "name": "#%%\n"
    }
   },
   "outputs": [],
   "source": [
    "if __name__ == '__main__':\n",
    "    x = int(input())\n",
    "    y = int(input())\n",
    "    z = int(input())\n",
    "    n = int(input())    \n",
    "                  \n",
    "    print([[i, j, k] for i in range(x+1) for j in range(y+1) for k in range(z+1) if i + j + k != n ])"
   ]
  },
  {
   "cell_type": "markdown",
   "id": "ef0e443f",
   "metadata": {
    "pycharm": {
     "name": "#%% md\n"
    }
   },
   "source": [
    "#### Calendar Module"
   ]
  },
  {
   "cell_type": "code",
   "execution_count": null,
   "id": "71a52694",
   "metadata": {
    "pycharm": {
     "name": "#%%\n"
    }
   },
   "outputs": [],
   "source": [
    "# Enter your code here. Read input from STDIN. Print output to STDOUT\n",
    "import calendar\n",
    "from datetime import date\n",
    "\n",
    "MM, DD, YYYY = input().split()\n",
    "d = date(int(YYYY), int(MM), int(DD))\n",
    "\n",
    "print(calendar.day_name[d.weekday()].upper())"
   ]
  },
  {
   "cell_type": "markdown",
   "id": "d310f8dc",
   "metadata": {
    "pycharm": {
     "name": "#%% md\n"
    }
   },
   "source": [
    "#### Time Delta"
   ]
  },
  {
   "cell_type": "code",
   "execution_count": null,
   "id": "c5c7ec29",
   "metadata": {
    "pycharm": {
     "name": "#%%\n"
    }
   },
   "outputs": [],
   "source": [
    "#!/bin/python3\n",
    "\n",
    "import math\n",
    "import os\n",
    "import random\n",
    "import re\n",
    "import sys\n",
    "from datetime import datetime\n",
    "\n",
    "# Complete the time_delta function below.\n",
    "def time_delta(t1, t2):\n",
    "    time_format = '%a %d %b %Y %H:%M:%S %z'\n",
    "    \n",
    "    t1 = datetime.strptime(t1, time_format)\n",
    "    t2 = datetime.strptime(t2, time_format)\n",
    "    \n",
    "    return str(int(abs((t1-t2).total_seconds()))) \n",
    "\n",
    "if __name__ == '__main__':\n",
    "    fptr = open(os.environ['OUTPUT_PATH'], 'w')\n",
    "\n",
    "    t = int(input())\n",
    "\n",
    "    for t_itr in range(t):\n",
    "        t1 = input()\n",
    "\n",
    "        t2 = input()\n",
    "\n",
    "        delta = time_delta(t1, t2)\n",
    "\n",
    "        fptr.write(delta + '\\n')\n",
    "\n",
    "    fptr.close()"
   ]
  },
  {
   "cell_type": "markdown",
   "id": "467c50f3",
   "metadata": {
    "pycharm": {
     "name": "#%% md\n"
    }
   },
   "source": [
    "#### Exceptions"
   ]
  },
  {
   "cell_type": "code",
   "execution_count": null,
   "id": "507c6845",
   "metadata": {
    "pycharm": {
     "name": "#%%\n"
    }
   },
   "outputs": [],
   "source": [
    "# Enter your code here. Read input from STDIN. Print output to STDOUT\n",
    "\n",
    "n = int(input())\n",
    "\n",
    "for i in range(n):\n",
    "    \n",
    "    a, b = input().split()\n",
    "    \n",
    "    try:        \n",
    "        print(int(a)//int(b))\n",
    "        \n",
    "    except ZeroDivisionError as e:  \n",
    "        print (f\"Error Code: {e}\")\n",
    "        \n",
    "    except ValueError as e:  \n",
    "        print (f\"Error Code: {e}\")"
   ]
  },
  {
   "cell_type": "markdown",
   "id": "69bf181a",
   "metadata": {
    "pycharm": {
     "name": "#%% md\n"
    }
   },
   "source": [
    "#### Zipped!"
   ]
  },
  {
   "cell_type": "code",
   "execution_count": null,
   "id": "06963217",
   "metadata": {
    "pycharm": {
     "name": "#%%\n"
    }
   },
   "outputs": [],
   "source": [
    "# Enter your code here. Read input from STDIN. Print output to STDOUT\n",
    "\n",
    "N, X = input().split()\n",
    "\n",
    "students = {}\n",
    "for i in range(int(N)):\n",
    "    students[i] = 0\n",
    "\n",
    "for i in range(int(X)):\n",
    "    marks = [float(j) for j in input().split()]\n",
    "    for index, m in enumerate(marks):\n",
    "        students[index] += m\n",
    "        \n",
    "for key in students:\n",
    "    print(students[key] / int(X))"
   ]
  },
  {
   "cell_type": "markdown",
   "id": "fb2fe2ca",
   "metadata": {
    "pycharm": {
     "name": "#%% md\n"
    }
   },
   "source": [
    "#### Athlete Sort"
   ]
  },
  {
   "cell_type": "code",
   "execution_count": null,
   "id": "fec8901a",
   "metadata": {
    "pycharm": {
     "name": "#%%\n"
    }
   },
   "outputs": [],
   "source": [
    "#!/bin/python3\n",
    "\n",
    "import math\n",
    "import os\n",
    "import random\n",
    "import re\n",
    "import sys\n",
    "\n",
    "\n",
    "\n",
    "if __name__ == '__main__':\n",
    "    nm = input().split()\n",
    "\n",
    "    n = int(nm[0]) # Athletes number\n",
    "\n",
    "    m = int(nm[1]) # Features numbers\n",
    "\n",
    "    arr = []\n",
    "\n",
    "    for _ in range(n):\n",
    "        arr.append(list(map(int, input().rstrip().split())))\n",
    "\n",
    "    k = int(input())\n",
    "\n",
    "    # Sort array using the k index\n",
    "    sorted_arr = sorted(arr, key=lambda row:row[k])\n",
    "    \n",
    "    for i in range(len(sorted_arr)):\n",
    "        print(\" \".join([str(sorted_arr[i][j]) for j in range(len(sorted_arr[i]))]))"
   ]
  },
  {
   "cell_type": "markdown",
   "id": "8ac2aa37",
   "metadata": {
    "pycharm": {
     "name": "#%% md\n"
    }
   },
   "source": [
    "#### ginortS"
   ]
  },
  {
   "cell_type": "code",
   "execution_count": null,
   "id": "40184131",
   "metadata": {
    "pycharm": {
     "name": "#%%\n"
    }
   },
   "outputs": [],
   "source": [
    "# Enter your code here. Read input from STDIN. Print output to STDOUT\n",
    "\n",
    "txt = sorted(input())\n",
    "\n",
    "lower, upper, odd, even = \"\", \"\", \"\", \"\"\n",
    "\n",
    "for char in txt:\n",
    "    if char.isupper():\n",
    "        upper = upper + char\n",
    "    if char.islower():\n",
    "        lower = lower + char\n",
    "    if char.isdigit():\n",
    "        if int(char) % 2 == 0:\n",
    "            even = even + char\n",
    "        else:\n",
    "            odd = odd + char\n",
    "            \n",
    "print(lower + upper + odd + even)"
   ]
  },
  {
   "cell_type": "markdown",
   "id": "3b235325",
   "metadata": {
    "pycharm": {
     "name": "#%% md\n"
    }
   },
   "source": [
    "#### Map and Lambda Function"
   ]
  },
  {
   "cell_type": "code",
   "execution_count": null,
   "id": "51c308bf",
   "metadata": {
    "pycharm": {
     "name": "#%%\n"
    }
   },
   "outputs": [],
   "source": [
    "cube = lambda x: x*x*x\n",
    "\n",
    "def fibonacci(n):\n",
    "    if n > 1:\n",
    "        f = [0, 1]\n",
    "        for i in range(n-2):\n",
    "            f.append(f[-1]+f[-2])\n",
    "        return f\n",
    "    else:\n",
    "        if n == 1:\n",
    "            return [0]\n",
    "        if n == 0:\n",
    "            return []"
   ]
  },
  {
   "cell_type": "markdown",
   "id": "22a1c4fd",
   "metadata": {
    "pycharm": {
     "name": "#%% md\n"
    }
   },
   "source": [
    "#### Detect Floating Point Number"
   ]
  },
  {
   "cell_type": "code",
   "execution_count": null,
   "id": "d0d8cd03",
   "metadata": {
    "pycharm": {
     "name": "#%%\n"
    }
   },
   "outputs": [],
   "source": [
    "# Enter your code here. Read input from STDIN. Print output to STDOUT\n",
    "import re\n",
    "\n",
    "n = int(input())\n",
    "\n",
    "for i in range(n):\n",
    "    number = input()        \n",
    "    x = re.search(r'^[-+]?\\d*\\.\\d+$', number)\n",
    "    if x:\n",
    "        print(\"True\")\n",
    "    else:\n",
    "        print(\"False\")"
   ]
  },
  {
   "cell_type": "markdown",
   "id": "24140523",
   "metadata": {
    "pycharm": {
     "name": "#%% md\n"
    }
   },
   "source": [
    "#### Group(), Groups() & Groupdict()"
   ]
  },
  {
   "cell_type": "code",
   "execution_count": null,
   "id": "84779ca4",
   "metadata": {
    "pycharm": {
     "name": "#%%\n"
    }
   },
   "outputs": [],
   "source": [
    "# Enter your code here. Read input from STDIN. Print output to STDOUT\n",
    "import re\n",
    "\n",
    "text = input()\n",
    "\n",
    "m = re.findall(r'([a-zA-Z0-9])\\1+', text)\n",
    "\n",
    "if m:\n",
    "    print(m[0])\n",
    "else:\n",
    "    print(\"-1\")"
   ]
  },
  {
   "cell_type": "markdown",
   "id": "8ed5fbe5",
   "metadata": {
    "pycharm": {
     "name": "#%% md\n"
    }
   },
   "source": [
    "#### Re.findall() & Re.finditer()"
   ]
  },
  {
   "cell_type": "code",
   "execution_count": null,
   "id": "ba8b27b7",
   "metadata": {
    "pycharm": {
     "name": "#%%\n"
    }
   },
   "outputs": [],
   "source": [
    "# Enter your code here. Read input from STDIN. Print output to STDOUT\n",
    "\n",
    "import re\n",
    "\n",
    "txt = input()\n",
    "\n",
    "matches = re.findall(r'(?<=[^AEIOUaeiou])([AEIOUaeiou]{2,})(?=[^AEIOUaeiou])', txt)\n",
    "\n",
    "if matches:\n",
    "    for m in matches:\n",
    "        print(m)\n",
    "else:\n",
    "    print(\"-1\")"
   ]
  },
  {
   "cell_type": "markdown",
   "id": "203c6bd3",
   "metadata": {
    "pycharm": {
     "name": "#%% md\n"
    }
   },
   "source": [
    "#### Re.start() & Re.end()"
   ]
  },
  {
   "cell_type": "code",
   "execution_count": null,
   "id": "abb3f701",
   "metadata": {
    "pycharm": {
     "name": "#%%\n"
    }
   },
   "outputs": [],
   "source": [
    "# Enter your code here. Read input from STDIN. Print output to STDOUT\n",
    "import re\n",
    "\n",
    "S = input()\n",
    "k = input()\n",
    "\n",
    "indexes = [(m.start(), m.end() + (len(k) -1)) for m in re.finditer(rf\"(?={k})\", S)]\n",
    "\n",
    "if indexes:\n",
    "    for i in indexes:\n",
    "        print(i)\n",
    "else:\n",
    "    print((-1, -1))"
   ]
  },
  {
   "cell_type": "markdown",
   "id": "bd032431",
   "metadata": {
    "pycharm": {
     "name": "#%% md\n"
    }
   },
   "source": [
    "#### Validating Roman Numerals"
   ]
  },
  {
   "cell_type": "code",
   "execution_count": null,
   "id": "8ff149d1",
   "metadata": {
    "pycharm": {
     "name": "#%%\n"
    }
   },
   "outputs": [],
   "source": [
    "# Divide the regex patter into the four types of digits\n",
    "digits = '(V?[I]{0,3}|I[VX])'\n",
    "tens = '(L?[X]{0,3}|X[LC])'\n",
    "hundreds = '(D?[C]{0,3}|C[DM])'\n",
    "thousands = 'M{0,3}'\n",
    "\n",
    "regex_pattern = rf\"{thousands}{hundreds}{tens}{digits}$\"\t# Do not delete 'r'."
   ]
  },
  {
   "cell_type": "markdown",
   "id": "d5fa03f9",
   "metadata": {
    "pycharm": {
     "name": "#%% md\n"
    }
   },
   "source": [
    "#### Validating and Parsing Email Addresses"
   ]
  },
  {
   "cell_type": "code",
   "execution_count": null,
   "id": "9182cb1b",
   "metadata": {
    "pycharm": {
     "name": "#%%\n"
    }
   },
   "outputs": [],
   "source": [
    "# Enter your code here. Read input from STDIN. Print output to STDOUT\n",
    "import re\n",
    "\n",
    "n = int(input())\n",
    "for i in range(n): \n",
    "    s = input()\n",
    "    a = re.search(r'<[a-zA-Z][\\w\\.-]*@[a-zA-Z]*\\.[a-zA-Z]{1,3}>', s)\n",
    "    if a:\n",
    "        print(s)"
   ]
  },
  {
   "cell_type": "markdown",
   "id": "b3d89b28",
   "metadata": {
    "pycharm": {
     "name": "#%% md\n"
    }
   },
   "source": [
    "#### Hex Color Code"
   ]
  },
  {
   "cell_type": "code",
   "execution_count": null,
   "id": "1c38ac79",
   "metadata": {
    "pycharm": {
     "name": "#%%\n"
    }
   },
   "outputs": [],
   "source": [
    "# Enter your code here. Read input from STDIN. Print output to STDOUT\n",
    "import re\n",
    "\n",
    "# We need to identify if we are inside of a block, only in that case we can check for any match\n",
    "in_block = False\n",
    "\n",
    "for x in range(int(input())):\n",
    "    line = input()\n",
    "    \n",
    "    if '{' in line:\n",
    "        in_block = True\n",
    "        continue\n",
    "    if '}' in line:\n",
    "        in_block = False\n",
    "        continue\n",
    "        \n",
    "    if in_block:\n",
    "        matches = re.findall(r'(#[a-fA-F0-9]{3,6})', line)\n",
    "        if matches:\n",
    "            [print(m) for m in matches]"
   ]
  },
  {
   "cell_type": "markdown",
   "id": "fb062a69",
   "metadata": {
    "pycharm": {
     "name": "#%% md\n"
    }
   },
   "source": [
    "#### HTML Parser - Part 1"
   ]
  },
  {
   "cell_type": "code",
   "execution_count": null,
   "id": "1152f892",
   "metadata": {
    "pycharm": {
     "name": "#%%\n"
    }
   },
   "outputs": [],
   "source": [
    "# Enter your code here. Read input from STDIN. Print output to STDOUT\n",
    "from html.parser import HTMLParser\n",
    "\n",
    "class MyHTMLParser(HTMLParser):\n",
    "    def handle_starttag(self, tag, attrs):        \n",
    "        print (f'Start : {tag}')\n",
    "        for ele in attrs:\n",
    "            print (f'-> {ele[0]} > {ele[1]}')\n",
    "            \n",
    "    def handle_endtag(self, tag):\n",
    "        print (f'End   : {tag}')\n",
    "        \n",
    "    def handle_startendtag(self, tag, attrs):\n",
    "        print (f'Empty : {tag}')\n",
    "        for ele in attrs:\n",
    "            print (f'-> {ele[0]} > {ele[1]}')\n",
    "            \n",
    "MyParser = MyHTMLParser()\n",
    "MyParser.feed(''.join([input().strip() for i in range(int(input()))]))"
   ]
  },
  {
   "cell_type": "markdown",
   "id": "4cbb5534",
   "metadata": {
    "pycharm": {
     "name": "#%% md\n"
    }
   },
   "source": [
    "#### HTML Parser - Part 2"
   ]
  },
  {
   "cell_type": "code",
   "execution_count": null,
   "id": "205eb9c9",
   "metadata": {
    "pycharm": {
     "name": "#%%\n"
    }
   },
   "outputs": [],
   "source": [
    "from html.parser import HTMLParser\n",
    "\n",
    "class MyHTMLParser(HTMLParser):\n",
    "    def handle_comment(self, data):\n",
    "        if \"\\n\" in data:\n",
    "            print(\">>> Multi-line Comment\")\n",
    "            print(data)\n",
    "        else:\n",
    "            print(\">>> Single-line Comment\")\n",
    "            print(data)\n",
    "    def handle_data(self, data):\n",
    "        if data != \"\\n\":\n",
    "            print(\">>> Data\")\n",
    "            print(data)\n",
    "  \n",
    "html = \"\"       \n",
    "for i in range(int(input())):\n",
    "    html += input().rstrip()\n",
    "    html += '\\n'\n",
    "    \n",
    "parser = MyHTMLParser()\n",
    "parser.feed(html)\n",
    "parser.close()"
   ]
  },
  {
   "cell_type": "markdown",
   "id": "12a75c98",
   "metadata": {
    "pycharm": {
     "name": "#%% md\n"
    }
   },
   "source": [
    "#### Validating phone numbers"
   ]
  },
  {
   "cell_type": "code",
   "execution_count": null,
   "id": "1c33efd5",
   "metadata": {
    "pycharm": {
     "name": "#%%\n"
    }
   },
   "outputs": [],
   "source": [
    "# Enter your code here. Read input from STDIN. Print output to STDOUT\n",
    "import re\n",
    "n = int(input())\n",
    "\n",
    "for i in range(n):\n",
    "    txt = input()\n",
    "    match = re.search(r'^[789]\\d{9}$', txt)\n",
    "    if match:\n",
    "        print(\"YES\")\n",
    "    else:\n",
    "        print(\"NO\")"
   ]
  },
  {
   "cell_type": "markdown",
   "id": "aac53ecd",
   "metadata": {
    "pycharm": {
     "name": "#%% md\n"
    }
   },
   "source": [
    "#### Detect HTML Tags, Attributes and Attribute Values"
   ]
  },
  {
   "cell_type": "code",
   "execution_count": null,
   "id": "0ec9a039",
   "metadata": {
    "pycharm": {
     "name": "#%%\n"
    }
   },
   "outputs": [],
   "source": [
    "# Enter your code here. Read input from STDIN. Print output to STDOUT\n",
    "from html.parser import HTMLParser\n",
    "\n",
    "class MyHTMLParser(HTMLParser):\n",
    "    def handle_starttag(self, tag, attrs):\n",
    "        print(tag)\n",
    "        [print('-> {} > {}'.format(*attr)) for attr in attrs]\n",
    "        \n",
    "html = '\\n'.join([input() for _ in range(int(input()))])\n",
    "parser = MyHTMLParser()\n",
    "parser.feed(html)\n",
    "parser.close()"
   ]
  },
  {
   "cell_type": "markdown",
   "id": "56aac1ea",
   "metadata": {
    "pycharm": {
     "name": "#%% md\n"
    }
   },
   "source": [
    "#### Validating UID "
   ]
  },
  {
   "cell_type": "code",
   "execution_count": null,
   "id": "c9e0c6b5",
   "metadata": {
    "pycharm": {
     "name": "#%%\n"
    }
   },
   "outputs": [],
   "source": [
    "# Enter your code here. Read input from STDIN. Print output to STDOUT\n",
    "import re\n",
    "\n",
    "t = int(input())\n",
    "\n",
    "for i in range(t):\n",
    "    txt = ''.join(sorted(input()))\n",
    "    try:\n",
    "        # Using assert we check if each condition is satisfied\n",
    "        assert re.search(r'[A-Z]{2}', txt)\n",
    "        assert re.search(r'\\d\\d\\d', txt)\n",
    "        assert not re.search(r'[^a-zA-Z0-9]', txt)\n",
    "        assert not re.search(r'(.)\\1', txt)\n",
    "        assert len(txt) == 10\n",
    "        \n",
    "        print('Valid')\n",
    "    except:\n",
    "        print('Invalid')"
   ]
  },
  {
   "cell_type": "markdown",
   "id": "8be8db49",
   "metadata": {
    "pycharm": {
     "name": "#%% md\n"
    }
   },
   "source": [
    "#### Validating Credit Card Numbers"
   ]
  },
  {
   "cell_type": "code",
   "execution_count": null,
   "id": "a47bb145",
   "metadata": {
    "pycharm": {
     "name": "#%%\n"
    }
   },
   "outputs": [],
   "source": [
    "# Enter your code here. Read input from STDIN. Print output to STDOUT\n",
    "import re\n",
    "\n",
    "pattern = re.compile(\n",
    "    r'^'\n",
    "    r'(?!.*(\\d)(-?\\1){3})'\n",
    "    r'[456]\\d{3}'\n",
    "    r'(?:-?\\d{4}){3}'\n",
    "    r'$')\n",
    "\n",
    "n = int(input())\n",
    "\n",
    "for i in range(n):\n",
    "    m = pattern.search(input().strip())\n",
    "    if m:\n",
    "        print(\"Valid\")\n",
    "    else:\n",
    "        print(\"Invalid\")"
   ]
  },
  {
   "cell_type": "markdown",
   "id": "77bd6759",
   "metadata": {
    "pycharm": {
     "name": "#%% md\n"
    }
   },
   "source": [
    "#### Validating Postal Codes"
   ]
  },
  {
   "cell_type": "code",
   "execution_count": null,
   "id": "73653726",
   "metadata": {
    "pycharm": {
     "name": "#%%\n"
    }
   },
   "outputs": [],
   "source": [
    "regex_integer_in_range = r\"^[1-9][0-9]{5}$\"\t# Do not delete 'r'.\n",
    "regex_alternating_repetitive_digit_pair = r\"(?=(\\d)\\d\\1)\"\t# Do not delete 'r'."
   ]
  },
  {
   "cell_type": "markdown",
   "id": "861e7a35",
   "metadata": {
    "pycharm": {
     "name": "#%% md\n"
    }
   },
   "source": [
    "#### Matrix Script"
   ]
  },
  {
   "cell_type": "code",
   "execution_count": null,
   "id": "721c315d",
   "metadata": {
    "pycharm": {
     "name": "#%%\n"
    }
   },
   "outputs": [],
   "source": [
    "#!/bin/python3\n",
    "\n",
    "import math\n",
    "import os\n",
    "import random\n",
    "import re\n",
    "import sys\n",
    "\n",
    "first_multiple_input = input().rstrip().split()\n",
    "\n",
    "n = int(first_multiple_input[0])\n",
    "m = int(first_multiple_input[1])\n",
    "\n",
    "matrix = []\n",
    "\n",
    "for _ in range(n):\n",
    "    matrix_item = input()\n",
    "    matrix.append(matrix_item)\n",
    "\n",
    "encoded_string = \"\".join([matrix[j][i] for i in range(m) for j in range(n)])\n",
    "pat = r'(?<=[a-zA-Z0-9])[^a-zA-Z0-9]+(?=[a-zA-Z0-9])'\n",
    "print(re.sub(pat,' ',encoded_string))"
   ]
  },
  {
   "cell_type": "markdown",
   "id": "7e4458db",
   "metadata": {
    "pycharm": {
     "name": "#%% md\n"
    }
   },
   "source": [
    "#### XML 1 - Find the Score"
   ]
  },
  {
   "cell_type": "code",
   "execution_count": null,
   "id": "37d320f8",
   "metadata": {
    "pycharm": {
     "name": "#%%\n"
    }
   },
   "outputs": [],
   "source": [
    "def get_attr_number(node):\n",
    "    # your code goes here\n",
    "    count = len(node.attrib)\n",
    "    for x in node:\n",
    "        count += get_attr_number(x)\n",
    "    return count"
   ]
  },
  {
   "cell_type": "markdown",
   "id": "5fdc9227",
   "metadata": {
    "pycharm": {
     "name": "#%% md\n"
    }
   },
   "source": [
    "#### XML2 - Find the Maximum Depth"
   ]
  },
  {
   "cell_type": "code",
   "execution_count": null,
   "id": "9d7f14c9",
   "metadata": {
    "pycharm": {
     "name": "#%%\n"
    }
   },
   "outputs": [],
   "source": [
    "maxdepth = 0\n",
    "def depth(elem, level):\n",
    "    global maxdepth\n",
    "    # your code goes here\n",
    "    \n",
    "    if (level == maxdepth):\n",
    "        maxdepth += 1\n",
    "        \n",
    "    for child in elem:\n",
    "        depth(child, level + 1)"
   ]
  },
  {
   "cell_type": "markdown",
   "id": "1a91cd1e",
   "metadata": {
    "pycharm": {
     "name": "#%% md\n"
    }
   },
   "source": [
    "#### Standardize Mobile Number Using Decorators"
   ]
  },
  {
   "cell_type": "code",
   "execution_count": null,
   "id": "5b38234a",
   "metadata": {
    "pycharm": {
     "name": "#%%\n"
    }
   },
   "outputs": [],
   "source": [
    "def wrapper(f):\n",
    "    def fun(l):\n",
    "        f([\"+91 \"+c[-10:-5]+\" \"+c[-5:] for c in l])\n",
    "    return fun"
   ]
  },
  {
   "cell_type": "markdown",
   "id": "5834508a",
   "metadata": {
    "pycharm": {
     "name": "#%% md\n"
    }
   },
   "source": [
    "#### Decorators 2 - Name Directory"
   ]
  },
  {
   "cell_type": "code",
   "execution_count": null,
   "id": "ba5d6617",
   "metadata": {
    "pycharm": {
     "name": "#%%\n"
    }
   },
   "outputs": [],
   "source": [
    "def person_lister(f):\n",
    "    def inner(people):\n",
    "        return map(f, sorted(people, key=lambda x: int(x[2])))\n",
    "    return inner"
   ]
  },
  {
   "cell_type": "markdown",
   "id": "4a54b88a",
   "metadata": {
    "pycharm": {
     "name": "#%% md\n"
    }
   },
   "source": [
    "#### Arrays"
   ]
  },
  {
   "cell_type": "code",
   "execution_count": null,
   "id": "90e61c37",
   "metadata": {
    "pycharm": {
     "name": "#%%\n"
    }
   },
   "outputs": [],
   "source": [
    "def arrays(arr):\n",
    "    # complete this function\n",
    "    # use numpy.array\n",
    "    a = numpy.array(arr, float)\n",
    "    return numpy.flip(a)"
   ]
  },
  {
   "cell_type": "markdown",
   "id": "c9910f28",
   "metadata": {
    "pycharm": {
     "name": "#%% md\n"
    }
   },
   "source": [
    "#### Shape and Reshape"
   ]
  },
  {
   "cell_type": "code",
   "execution_count": null,
   "id": "3e6495b4",
   "metadata": {
    "pycharm": {
     "name": "#%%\n"
    }
   },
   "outputs": [],
   "source": [
    "import numpy as np\n",
    "\n",
    "a = np.array(input().split(), int)\n",
    "\n",
    "print(np.reshape(a, (3, 3)))"
   ]
  },
  {
   "cell_type": "markdown",
   "id": "4e3ee80d",
   "metadata": {
    "pycharm": {
     "name": "#%% md\n"
    }
   },
   "source": [
    "#### Transpose and Flatten"
   ]
  },
  {
   "cell_type": "code",
   "execution_count": null,
   "id": "764cdfd1",
   "metadata": {
    "pycharm": {
     "name": "#%%\n"
    }
   },
   "outputs": [],
   "source": [
    "import numpy as np\n",
    "\n",
    "N, M = [int(_) for _ in input().split()]\n",
    "\n",
    "a = np.array([ [int(_) for _ in input().split()] for n in range(N)])\n",
    "\n",
    "print(np.transpose(a))\n",
    "print(a.flatten())"
   ]
  },
  {
   "cell_type": "markdown",
   "id": "5727e662",
   "metadata": {
    "pycharm": {
     "name": "#%% md\n"
    }
   },
   "source": [
    "#### Concatenate"
   ]
  },
  {
   "cell_type": "code",
   "execution_count": null,
   "id": "c451eef4",
   "metadata": {
    "pycharm": {
     "name": "#%%\n"
    }
   },
   "outputs": [],
   "source": [
    "import numpy as np\n",
    "\n",
    "N, M, P = [int(_) for _ in input().split()]\n",
    "\n",
    "a = np.array([ [int(_) for _ in input().split()] for n in range(N)])\n",
    "\n",
    "b = np.array([ [int(_) for _ in input().split()] for n in range(M)])\n",
    "\n",
    "print(np.concatenate((a, b), axis=0))"
   ]
  },
  {
   "cell_type": "markdown",
   "id": "d060140d",
   "metadata": {
    "pycharm": {
     "name": "#%% md\n"
    }
   },
   "source": [
    "#### Zeros and Ones"
   ]
  },
  {
   "cell_type": "code",
   "execution_count": null,
   "id": "5a80aece",
   "metadata": {
    "pycharm": {
     "name": "#%%\n"
    }
   },
   "outputs": [],
   "source": [
    "import numpy as np\n",
    "\n",
    "shapes = [int(_) for _ in input().split()]\n",
    "\n",
    "print(np.zeros(shapes, dtype = np.int))\n",
    "print(np.ones(shapes, dtype=np.int))"
   ]
  },
  {
   "cell_type": "markdown",
   "id": "a9e41816",
   "metadata": {
    "pycharm": {
     "name": "#%% md\n"
    }
   },
   "source": [
    "#### Eye and Identity"
   ]
  },
  {
   "cell_type": "code",
   "execution_count": null,
   "id": "4da3e4c0",
   "metadata": {
    "pycharm": {
     "name": "#%%\n"
    }
   },
   "outputs": [],
   "source": [
    "import numpy as np\n",
    "\n",
    "np.set_printoptions(legacy='1.13')\n",
    "\n",
    "N, M = map(int, input().split())\n",
    "\n",
    "print(np.eye(N, M))"
   ]
  },
  {
   "cell_type": "markdown",
   "id": "c3820a7a",
   "metadata": {
    "pycharm": {
     "name": "#%% md\n"
    }
   },
   "source": [
    "#### Floor, Ceil and Rint"
   ]
  },
  {
   "cell_type": "code",
   "execution_count": null,
   "id": "039ee1c2",
   "metadata": {
    "pycharm": {
     "name": "#%%\n"
    }
   },
   "outputs": [],
   "source": [
    "import numpy as np\n",
    "\n",
    "np.set_printoptions(legacy='1.13')\n",
    "\n",
    "a = np.array(input().split(), float)\n",
    "\n",
    "print(np.floor(a))\n",
    "print(np.ceil(a))\n",
    "print(np.rint(a))"
   ]
  },
  {
   "cell_type": "markdown",
   "id": "32b337db",
   "metadata": {
    "pycharm": {
     "name": "#%% md\n"
    }
   },
   "source": [
    "#### Sum and Prod"
   ]
  },
  {
   "cell_type": "code",
   "execution_count": null,
   "id": "3543c4a5",
   "metadata": {
    "pycharm": {
     "name": "#%%\n"
    }
   },
   "outputs": [],
   "source": [
    "import numpy as np\n",
    "\n",
    "N, M = map(int, input().split())\n",
    "\n",
    "a = np.array([input().split() for _ in range(N)], int)\n",
    "\n",
    "a_sum = np.sum(a, axis=0)\n",
    "\n",
    "print(np.prod(a_sum))"
   ]
  },
  {
   "cell_type": "markdown",
   "id": "b964574a",
   "metadata": {
    "pycharm": {
     "name": "#%% md\n"
    }
   },
   "source": [
    "#### Min and Max"
   ]
  },
  {
   "cell_type": "code",
   "execution_count": null,
   "id": "0eac03c8",
   "metadata": {
    "pycharm": {
     "name": "#%%\n"
    }
   },
   "outputs": [],
   "source": [
    "import numpy as np\n",
    "\n",
    "N, M = map(int, input().split())\n",
    "\n",
    "a = np.array([input().split() for _ in range(N)], int)\n",
    "\n",
    "a_min = np.min(a, axis=1)\n",
    "\n",
    "print(np.max(a_min))"
   ]
  },
  {
   "cell_type": "markdown",
   "id": "830a8b2d",
   "metadata": {
    "pycharm": {
     "name": "#%% md\n"
    }
   },
   "source": [
    "#### Dot and Cross"
   ]
  },
  {
   "cell_type": "code",
   "execution_count": null,
   "id": "39afb766",
   "metadata": {
    "pycharm": {
     "name": "#%%\n"
    }
   },
   "outputs": [],
   "source": [
    "import numpy as np\n",
    "\n",
    "N = int(input())\n",
    "\n",
    "a = np.array([input().split() for _ in range(N)], int)\n",
    "b = np.array([input().split() for _ in range(N)], int)\n",
    "\n",
    "print(np.dot(a, b))"
   ]
  },
  {
   "cell_type": "markdown",
   "id": "50274c46",
   "metadata": {
    "pycharm": {
     "name": "#%% md\n"
    }
   },
   "source": [
    "#### Inner and Outer"
   ]
  },
  {
   "cell_type": "code",
   "execution_count": null,
   "id": "05315825",
   "metadata": {
    "pycharm": {
     "name": "#%%\n"
    }
   },
   "outputs": [],
   "source": [
    "import numpy as np\n",
    "\n",
    "a = np.array(input().split(), int)\n",
    "b = np.array(input().split(), int)\n",
    "\n",
    "print(np.inner(a, b))\n",
    "print(np.outer(a, b))"
   ]
  },
  {
   "cell_type": "markdown",
   "id": "d90cf9ab",
   "metadata": {
    "pycharm": {
     "name": "#%% md\n"
    }
   },
   "source": [
    "#### Linear Algebra"
   ]
  },
  {
   "cell_type": "code",
   "execution_count": null,
   "id": "1c176204",
   "metadata": {
    "pycharm": {
     "name": "#%%\n"
    }
   },
   "outputs": [],
   "source": [
    "import numpy as np\n",
    "\n",
    "np.set_printoptions(legacy='1.13')\n",
    "\n",
    "n = int(input())\n",
    "\n",
    "a = np.array([input().split() for _ in range(n)], float)\n",
    "\n",
    "print(np.linalg.det(a))"
   ]
  },
  {
   "cell_type": "markdown",
   "id": "6de6ae3b",
   "metadata": {
    "pycharm": {
     "name": "#%% md\n"
    }
   },
   "source": [
    "#### Mean, Var, and Std"
   ]
  },
  {
   "cell_type": "code",
   "execution_count": null,
   "id": "59338af5",
   "metadata": {
    "pycharm": {
     "name": "#%%\n"
    }
   },
   "outputs": [],
   "source": [
    "import numpy as np\n",
    "\n",
    "np.set_printoptions(legacy='1.14')\n",
    "\n",
    "\n",
    "N, M = map(int, input().split())\n",
    "\n",
    "a = np.array([input().split() for _ in range(N)], float)\n",
    "\n",
    "print(np.mean(a, axis=1))\n",
    "print(np.var(a, axis=0))\n",
    "print(np.around( np.std(a), 11))"
   ]
  },
  {
   "cell_type": "markdown",
   "id": "2b154508",
   "metadata": {
    "pycharm": {
     "name": "#%% md\n"
    }
   },
   "source": [
    "#### Polynomials"
   ]
  },
  {
   "cell_type": "code",
   "execution_count": null,
   "id": "9f365174",
   "metadata": {
    "pycharm": {
     "name": "#%%\n"
    }
   },
   "outputs": [],
   "source": [
    "import numpy as np\n",
    "\n",
    "coefficients = list(map(float, input().split()))\n",
    "x = float(input())\n",
    "\n",
    "print(np.polyval(coefficients, x))"
   ]
  },
  {
   "cell_type": "markdown",
   "id": "5634a10f",
   "metadata": {
    "pycharm": {
     "name": "#%% md\n"
    }
   },
   "source": [
    "#### Array Mathematics"
   ]
  },
  {
   "cell_type": "code",
   "execution_count": null,
   "id": "97fbfa2a",
   "metadata": {
    "pycharm": {
     "name": "#%%\n"
    }
   },
   "outputs": [],
   "source": [
    "# Enter your code here. Read input from STDIN. Print output to STDOUT\n",
    "import numpy as np\n",
    "\n",
    "n, m = map(int, input().split())\n",
    "\n",
    "a = [np.array(input().split(), int) for _ in range(n)]\n",
    "b = [np.array(input().split(), int) for _ in range(n)]\n",
    "\n",
    "print(np.add(a, b))\n",
    "print(np.subtract(a, b))\n",
    "print(np.multiply(a, b))\n",
    "print(np.floor_divide(a, b))\n",
    "print(np.mod(a, b))\n",
    "print(np.power(a, b))"
   ]
  },
  {
   "cell_type": "markdown",
   "id": "bed2a4ff",
   "metadata": {
    "pycharm": {
     "name": "#%% md\n"
    }
   },
   "source": [
    "#### Birthday Cake Candles"
   ]
  },
  {
   "cell_type": "code",
   "execution_count": null,
   "id": "8d84aa05",
   "metadata": {
    "pycharm": {
     "name": "#%%\n"
    }
   },
   "outputs": [],
   "source": [
    "#!/bin/python3\n",
    "\n",
    "import math\n",
    "import os\n",
    "import random\n",
    "import re\n",
    "import sys\n",
    "from collections import Counter\n",
    "\n",
    "#\n",
    "# Complete the 'birthdayCakeCandles' function below.\n",
    "#\n",
    "# The function is expected to return an INTEGER.\n",
    "# The function accepts INTEGER_ARRAY candles as parameter.\n",
    "#\n",
    "\n",
    "def birthdayCakeCandles(candles):\n",
    "    # Write your code here\n",
    "    max_value = max(candles)\n",
    "    c = Counter(candles)\n",
    "    return c[max_value]\n",
    "\n",
    "if __name__ == '__main__':\n",
    "    fptr = open(os.environ['OUTPUT_PATH'], 'w')\n",
    "\n",
    "    candles_count = int(input().strip())\n",
    "\n",
    "    candles = list(map(int, input().rstrip().split()))\n",
    "\n",
    "    result = birthdayCakeCandles(candles)\n",
    "\n",
    "    fptr.write(str(result) + '\\n')\n",
    "\n",
    "    fptr.close()"
   ]
  },
  {
   "cell_type": "markdown",
   "id": "ab4b9696",
   "metadata": {
    "pycharm": {
     "name": "#%% md\n"
    }
   },
   "source": [
    "#### Number Line Jumps"
   ]
  },
  {
   "cell_type": "code",
   "execution_count": null,
   "id": "b62f24f9",
   "metadata": {
    "pycharm": {
     "name": "#%%\n"
    }
   },
   "outputs": [],
   "source": [
    "#!/bin/python3\n",
    "\n",
    "import math\n",
    "import os\n",
    "import random\n",
    "import re\n",
    "import sys\n",
    "\n",
    "#\n",
    "# Complete the 'kangaroo' function below.\n",
    "#\n",
    "# The function is expected to return a STRING.\n",
    "# The function accepts following parameters:\n",
    "#  1. INTEGER x1\n",
    "#  2. INTEGER v1\n",
    "#  3. INTEGER x2\n",
    "#  4. INTEGER v2\n",
    "#\n",
    "\n",
    "def kangaroo(x1, v1, x2, v2):\n",
    "    # Write your code here\n",
    "    '''\n",
    "    We need to find the interception between the two equation of the kangaroo movement.\n",
    "    If the value is integer and not negative it means that at that number of jumps the kangaroo meeets.\n",
    "    '''\n",
    "    if (v1 - v2) != 0:\n",
    "        x = (x2 -x1) / (v1 - v2)\n",
    "        print(x)\n",
    "        if x >= 0 and (x2 -x1) % (v1 - v2) == 0:\n",
    "            return \"YES\"\n",
    "    return \"NO\"\n",
    "\n",
    "if __name__ == '__main__':\n",
    "    fptr = open(os.environ['OUTPUT_PATH'], 'w')\n",
    "\n",
    "    first_multiple_input = input().rstrip().split()\n",
    "\n",
    "    x1 = int(first_multiple_input[0])\n",
    "\n",
    "    v1 = int(first_multiple_input[1])\n",
    "\n",
    "    x2 = int(first_multiple_input[2])\n",
    "\n",
    "    v2 = int(first_multiple_input[3])\n",
    "\n",
    "    result = kangaroo(x1, v1, x2, v2)\n",
    "\n",
    "    fptr.write(result + '\\n')\n",
    "\n",
    "    fptr.close()"
   ]
  },
  {
   "cell_type": "markdown",
   "id": "89ef2996",
   "metadata": {
    "pycharm": {
     "name": "#%% md\n"
    }
   },
   "source": [
    "#### Viral Advertising"
   ]
  },
  {
   "cell_type": "code",
   "execution_count": null,
   "id": "af709b21",
   "metadata": {
    "pycharm": {
     "name": "#%%\n"
    }
   },
   "outputs": [],
   "source": [
    "#!/bin/python3\n",
    "\n",
    "import math\n",
    "import os\n",
    "import random\n",
    "import re\n",
    "import sys\n",
    "\n",
    "#\n",
    "# Complete the 'viralAdvertising' function below.\n",
    "#\n",
    "# The function is expected to return an INTEGER.\n",
    "# The function accepts INTEGER n as parameter.\n",
    "#\n",
    "\n",
    "def viralAdvertising(n):\n",
    "    # Write your code here\n",
    "    \n",
    "    shared = 5\n",
    "    tot_liked = 0\n",
    "    \n",
    "    for _ in range(n):\n",
    "        liked = shared // 2\n",
    "        tot_liked += liked\n",
    "        shared = liked * 3\n",
    "        \n",
    "    return tot_liked\n",
    "\n",
    "if __name__ == '__main__':\n",
    "    fptr = open(os.environ['OUTPUT_PATH'], 'w')\n",
    "\n",
    "    n = int(input().strip())\n",
    "\n",
    "    result = viralAdvertising(n)\n",
    "\n",
    "    fptr.write(str(result) + '\\n')\n",
    "\n",
    "    fptr.close()"
   ]
  },
  {
   "cell_type": "markdown",
   "id": "f6b51837",
   "metadata": {
    "pycharm": {
     "name": "#%% md\n"
    }
   },
   "source": [
    "#### Recursive Digit Sum"
   ]
  },
  {
   "cell_type": "code",
   "execution_count": null,
   "id": "943ae3a3",
   "metadata": {
    "pycharm": {
     "name": "#%%\n"
    }
   },
   "outputs": [],
   "source": [
    "#!/bin/python3\n",
    "\n",
    "import math\n",
    "import os\n",
    "import random\n",
    "import re\n",
    "import sys\n",
    "\n",
    "#\n",
    "# Complete the 'superDigit' function below.\n",
    "#\n",
    "# The function is expected to return an INTEGER.\n",
    "# The function accepts following parameters:\n",
    "#  1. STRING n\n",
    "#  2. INTEGER k\n",
    "#\n",
    "\n",
    "def superDigit(n, k):\n",
    "    # Write your code here\n",
    "    '''\n",
    "    Since using a recursive function did not pass some of the test case (due to memory limits) I searched for an alternative approach.\n",
    "    I found out that the superdigit consist in the digital root of the number which can be calculated using modulo.\n",
    "    After we calculate the sum all the digits multiplied for k, we calculate the modulo of this (adding 1 since the range of the modulo is 0-8)\n",
    "    '''\n",
    "    return 1 + (k * sum(int(i) for i in n) - 1) % 9\n",
    "\n",
    "if __name__ == '__main__':\n",
    "    fptr = open(os.environ['OUTPUT_PATH'], 'w')\n",
    "\n",
    "    first_multiple_input = input().rstrip().split()\n",
    "\n",
    "    n = first_multiple_input[0]\n",
    "\n",
    "    k = int(first_multiple_input[1])\n",
    "\n",
    "    result = superDigit(n, k)\n",
    "\n",
    "    fptr.write(str(result) + '\\n')\n",
    "\n",
    "    fptr.close()"
   ]
  },
  {
   "cell_type": "markdown",
   "id": "b3f2143a",
   "metadata": {
    "pycharm": {
     "name": "#%% md\n"
    }
   },
   "source": [
    "#### Insertion Sort - Part 1"
   ]
  },
  {
   "cell_type": "code",
   "execution_count": null,
   "id": "9bfaf0ae",
   "metadata": {
    "pycharm": {
     "name": "#%%\n"
    }
   },
   "outputs": [],
   "source": [
    "#!/bin/python3\n",
    "\n",
    "import math\n",
    "import os\n",
    "import random\n",
    "import re\n",
    "import sys\n",
    "\n",
    "#\n",
    "# Complete the 'insertionSort1' function below.\n",
    "#\n",
    "# The function accepts following parameters:\n",
    "#  1. INTEGER n\n",
    "#  2. INTEGER_ARRAY arr\n",
    "#\n",
    "\n",
    "def insertionSort1(n, arr):\n",
    "    # Write your code here\n",
    "    \n",
    "    number = arr[-1]\n",
    "    index = n - 2\n",
    "\n",
    "    while (number < arr[index]) and (index >= 0):\n",
    "        arr[index + 1] = arr[index]\n",
    "        print(\" \".join(map(str, arr)))\n",
    "        index -= 1\n",
    "\n",
    "    arr[index + 1] = number\n",
    "    print(\" \".join(map(str, arr)))\n",
    "        \n",
    "            \n",
    "\n",
    "if __name__ == '__main__':\n",
    "    n = int(input().strip())\n",
    "\n",
    "    arr = list(map(int, input().rstrip().split()))\n",
    "\n",
    "    insertionSort1(n, arr)"
   ]
  },
  {
   "cell_type": "markdown",
   "id": "da2b1540",
   "metadata": {
    "pycharm": {
     "name": "#%% md\n"
    }
   },
   "source": [
    "#### Insertion Sort - Part 2"
   ]
  },
  {
   "cell_type": "code",
   "execution_count": null,
   "id": "93ebf13f",
   "metadata": {
    "pycharm": {
     "name": "#%%\n"
    }
   },
   "outputs": [],
   "source": [
    "#!/bin/python3\n",
    "\n",
    "import math\n",
    "import os\n",
    "import random\n",
    "import re\n",
    "import sys\n",
    "\n",
    "#\n",
    "# Complete the 'insertionSort2' function below.\n",
    "#\n",
    "# The function accepts following parameters:\n",
    "#  1. INTEGER n\n",
    "#  2. INTEGER_ARRAY arr\n",
    "#\n",
    "\n",
    "def insertionSort2(n, arr):\n",
    "    # Write your code here\n",
    "    for start in range(1, n):\n",
    "        j = start\n",
    "        \n",
    "        while arr[j-1] > arr[j] and j > 0:\n",
    "            arr[j], arr[j-1] = arr[j-1], arr[j]\n",
    "            j -= 1\n",
    "        print(*arr)\n",
    "\n",
    "if __name__ == '__main__':\n",
    "    n = int(input().strip())\n",
    "\n",
    "    arr = list(map(int, input().rstrip().split()))\n",
    "\n",
    "    insertionSort2(n, arr)"
   ]
  }
 ],
 "metadata": {},
 "nbformat": 4,
 "nbformat_minor": 5
}